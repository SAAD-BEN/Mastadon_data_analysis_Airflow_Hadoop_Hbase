{
 "cells": [
  {
   "cell_type": "code",
   "execution_count": 4,
   "metadata": {},
   "outputs": [],
   "source": [
    "import happybase"
   ]
  },
  {
   "cell_type": "markdown",
   "metadata": {},
   "source": [
    "# User Analysis\n",
    "---"
   ]
  },
  {
   "cell_type": "markdown",
   "metadata": {},
   "source": [
    "## Top 3 Followed users"
   ]
  },
  {
   "cell_type": "code",
   "execution_count": 21,
   "metadata": {},
   "outputs": [
    {
     "name": "stdout",
     "output_type": "stream",
     "text": [
      "User ID: 109999724950289416, Followers: 3340001\n",
      "User ID: 109999725002952105, Followers: 2410000\n",
      "User ID: 109718180885037597, Followers: 2330004\n"
     ]
    }
   ],
   "source": [
    "# Connect to HBase\n",
    "# HBase connection settings\n",
    "hbase_host = 'localhost'  # Replace with your HBase host\n",
    "hbase_port = 9090  # Default HBase port\n",
    "# Connect to HBase\n",
    "connection = happybase.Connection(host=hbase_host, port=hbase_port)\n",
    "\n",
    "table = connection.table('user_table')\n",
    "\n",
    "# Scan the table to retrieve user data\n",
    "scan_result = table.scan(columns=['data:followers'])\n",
    "\n",
    "# Create a dictionary to store user followers\n",
    "user_followers = {}\n",
    "\n",
    "# Process the scan result\n",
    "for key, data in scan_result:\n",
    "    user_id = key.decode('utf-8')\n",
    "    followers = int(data[b'data:followers'].decode('utf-8'))\n",
    "    user_followers[user_id] = followers\n",
    "\n",
    "# Close the HBase connection\n",
    "connection.close()\n",
    "\n",
    "# Sort the users by followers and get the top users\n",
    "top_users = sorted(user_followers.items(), key=lambda item: item[1], reverse=True)[:3]\n",
    "\n",
    "# Print the top users and their followers\n",
    "for user_id, followers in top_users:\n",
    "    print(f\"User ID: {user_id}, Followers: {followers}\")\n"
   ]
  },
  {
   "cell_type": "markdown",
   "metadata": {},
   "source": [
    "## Users with highest engagement rate"
   ]
  },
  {
   "cell_type": "code",
   "execution_count": 27,
   "metadata": {},
   "outputs": [
    {
     "name": "stdout",
     "output_type": "stream",
     "text": [
      "User ID: 110643001753379072, Engagement Rate: 19.05 %\n",
      "User ID: 111243750378556518, Engagement Rate: 7.14 %\n",
      "User ID: 110657506981999016, Engagement Rate: 5.62 %\n"
     ]
    }
   ],
   "source": [
    "# Connect to HBase\n",
    "# HBase connection settings\n",
    "hbase_host = 'localhost'  # Replace with your HBase host\n",
    "hbase_port = 9090  # Default HBase port\n",
    "# Connect to HBase\n",
    "connection = happybase.Connection(host=hbase_host, port=hbase_port)\n",
    "\n",
    "# Select the table\n",
    "table = connection.table('user_table')\n",
    "\n",
    "# Scan the table to retrieve user data\n",
    "scan_result = table.scan(columns=['data:engagement_rate'])\n",
    "\n",
    "# Create a dictionary to store user engagement rates\n",
    "user_engagement = {}\n",
    "\n",
    "# Process the scan result\n",
    "for key, data in scan_result:\n",
    "    user_id = key.decode('utf-8')\n",
    "    engagement_rate = float(data[b'data:engagement_rate'].decode('utf-8'))\n",
    "    user_engagement[user_id] = engagement_rate\n",
    "\n",
    "# Close the HBase connection\n",
    "connection.close()\n",
    "\n",
    "# Sort the users by engagement rate and get the top users\n",
    "top_users = sorted(user_engagement.items(), key=lambda item: item[1], reverse=True)[:3]\n",
    "\n",
    "# Print the top users and their engagement rates\n",
    "for user_id, engagement_rate in top_users:\n",
    "    eng = float(engagement_rate) * 100\n",
    "    print(f\"User ID: {user_id}, Engagement Rate: {eng:.2f} %\")"
   ]
  },
  {
   "cell_type": "markdown",
   "metadata": {},
   "source": [
    "## User growth over time"
   ]
  },
  {
   "cell_type": "code",
   "execution_count": 28,
   "metadata": {},
   "outputs": [
    {
     "name": "stdout",
     "output_type": "stream",
     "text": [
      "Month: 2022-11, User Count: 45\n",
      "Month: 2022-12, User Count: 14\n",
      "Month: 2022-04, User Count: 13\n"
     ]
    }
   ],
   "source": [
    "# Connect to HBase\n",
    "# HBase connection settings\n",
    "hbase_host = 'localhost'  # Replace with your HBase host\n",
    "hbase_port = 9090  # Default HBase port\n",
    "# Connect to HBase\n",
    "connection = happybase.Connection(host=hbase_host, port=hbase_port)\n",
    "\n",
    "# Select the table\n",
    "table = connection.table('croissance_table')\n",
    "\n",
    "# Scan the table to retrieve data\n",
    "scan_result = table.scan(columns=['data:count'])\n",
    "\n",
    "# Create a dictionary to store month-wise user counts\n",
    "month_user_counts = {}\n",
    "\n",
    "# Process the scan result\n",
    "for key, data in scan_result:\n",
    "    month = key.decode('utf-8')\n",
    "    count = int(data[b'data:count'].decode('utf-8'))\n",
    "    month_user_counts[month] = count\n",
    "\n",
    "# Close the HBase connection\n",
    "connection.close()\n",
    "\n",
    "# Sort the months by user counts and get the top 3\n",
    "top_months = sorted(month_user_counts.items(), key=lambda item: item[1], reverse=True)[:3]\n",
    "\n",
    "# Print the top 3 months and their user counts\n",
    "for month, count in top_months:\n",
    "    print(f\"Month: {month}, User Count: {count}\")"
   ]
  },
  {
   "cell_type": "markdown",
   "metadata": {},
   "source": [
    "# Content analysis\n",
    "---"
   ]
  },
  {
   "cell_type": "markdown",
   "metadata": {},
   "source": [
    "## Top 3 websites"
   ]
  },
  {
   "cell_type": "code",
   "execution_count": 29,
   "metadata": {},
   "outputs": [
    {
     "name": "stdout",
     "output_type": "stream",
     "text": [
      "Website: mastodon.social, Mention Count: 137\n",
      "Website: www.telam.com.ar, Mention Count: 70\n",
      "Website: twitter.com, Mention Count: 58\n"
     ]
    }
   ],
   "source": [
    "# Connect to HBase\n",
    "# HBase connection settings\n",
    "hbase_host = 'localhost'  # Replace with your HBase host\n",
    "hbase_port = 9090  # Default HBase port\n",
    "# Connect to HBase\n",
    "connection = happybase.Connection(host=hbase_host, port=hbase_port)\n",
    "\n",
    "# Select the table\n",
    "table = connection.table('url_table')\n",
    "\n",
    "# Scan the table to retrieve data\n",
    "scan_result = table.scan(columns=['data:count'])\n",
    "\n",
    "# Create a dictionary to store website mention counts\n",
    "website_counts = {}\n",
    "\n",
    "# Process the scan result\n",
    "for key, data in scan_result:\n",
    "    website = key.decode('utf-8')\n",
    "    count = int(data[b'data:count'].decode('utf-8'))\n",
    "    website_counts[website] = count\n",
    "\n",
    "# Close the HBase connection\n",
    "connection.close()\n",
    "\n",
    "# Sort the websites by mention counts and get the top 3\n",
    "top_websites = sorted(website_counts.items(), key=lambda item: item[1], reverse=True)[:3]\n",
    "\n",
    "# Print the top 3 websites and their mention counts\n",
    "for website, count in top_websites:\n",
    "    print(f\"Website: {website}, Mention Count: {count}\")"
   ]
  },
  {
   "cell_type": "markdown",
   "metadata": {},
   "source": [
    "# Language analysis\n",
    "---"
   ]
  },
  {
   "cell_type": "markdown",
   "metadata": {},
   "source": [
    "## Most used languages"
   ]
  },
  {
   "cell_type": "code",
   "execution_count": 30,
   "metadata": {},
   "outputs": [
    {
     "name": "stdout",
     "output_type": "stream",
     "text": [
      "Language: en, Count: 1677\n",
      "Language: de, Count: 313\n",
      "Language: es, Count: 115\n"
     ]
    }
   ],
   "source": [
    "# Connect to HBase\n",
    "# HBase connection settings\n",
    "hbase_host = 'localhost'  # Replace with your HBase host\n",
    "hbase_port = 9090  # Default HBase port\n",
    "# Connect to HBase\n",
    "connection = happybase.Connection(host=hbase_host, port=hbase_port)\n",
    "\n",
    "\n",
    "# Select the table\n",
    "table = connection.table('language_table')\n",
    "\n",
    "# Scan the table to retrieve language data\n",
    "scan_result = table.scan(columns=['data:count'])\n",
    "\n",
    "# Create a dictionary to store language counts\n",
    "language_counts = {}\n",
    "\n",
    "# Process the scan result\n",
    "for key, data in scan_result:\n",
    "    language = key.decode('utf-8')\n",
    "    count = int(data[b'data:count'].decode('utf-8'))\n",
    "    language_counts[language] = count\n",
    "\n",
    "# Close the HBase connection\n",
    "connection.close()\n",
    "\n",
    "# Sort the language counts and get the top 3\n",
    "top_languages = sorted(language_counts.items(), key=lambda item: item[1], reverse=True)[:3]\n",
    "\n",
    "# Print the top 3 languages and their counts\n",
    "for language, count in top_languages:\n",
    "    print(f\"Language: {language}, Count: {count}\")"
   ]
  },
  {
   "cell_type": "markdown",
   "metadata": {},
   "source": [
    "# Media engagement\n",
    "---"
   ]
  },
  {
   "cell_type": "markdown",
   "metadata": {},
   "source": [
    "## Count of posts with media"
   ]
  },
  {
   "cell_type": "code",
   "execution_count": 35,
   "metadata": {},
   "outputs": [
    {
     "name": "stdout",
     "output_type": "stream",
     "text": [
      "There is 619 Posts with media\n"
     ]
    }
   ],
   "source": [
    "# Connect to HBase\n",
    "# HBase connection settings\n",
    "hbase_host = 'localhost'  # Replace with your HBase host\n",
    "hbase_port = 9090  # Default HBase port\n",
    "# Connect to HBase\n",
    "connection = happybase.Connection(host=hbase_host, port=hbase_port)\n",
    "\n",
    "# Select the table\n",
    "table = connection.table('toot_with_media_table')\n",
    "\n",
    "# Specify the row key you want to retrieve\n",
    "row_key = b'toot_with_media'  # Use bytes for the row key\n",
    "\n",
    "# Use the get method to retrieve the row\n",
    "row_data = table.row(row_key)\n",
    "\n",
    "# Close the HBase connection\n",
    "connection.close()\n",
    "\n",
    "# Print or process the retrieved data\n",
    "if row_data:\n",
    "    for column, cell in row_data.items():\n",
    "        print(f\"There is {cell.decode()} Posts with media\")\n",
    "else:\n",
    "    print(f\"Row with key '{row_key.decode('utf-8')}' not found in the table.\")"
   ]
  },
  {
   "cell_type": "markdown",
   "metadata": {},
   "source": [
    "# Tags and mentions analysis\n",
    "---"
   ]
  },
  {
   "cell_type": "markdown",
   "metadata": {},
   "source": [
    "## Most used tags"
   ]
  },
  {
   "cell_type": "code",
   "execution_count": 38,
   "metadata": {},
   "outputs": [
    {
     "name": "stdout",
     "output_type": "stream",
     "text": [
      "Tag: michigan, Count: 56\n",
      "Tag: press, Count: 46\n",
      "Tag: genocide, Count: 42\n"
     ]
    }
   ],
   "source": [
    "# Connect to HBase\n",
    "# HBase connection settings\n",
    "hbase_host = 'localhost'  # Replace with your HBase host\n",
    "hbase_port = 9090  # Default HBase port\n",
    "# Connect to HBase\n",
    "connection = happybase.Connection(host=hbase_host, port=hbase_port)\n",
    "\n",
    "\n",
    "# Select the table\n",
    "table = connection.table('tag_table')\n",
    "\n",
    "# Scan the table to retrieve data\n",
    "scan_result = table.scan(columns=['data:count'])\n",
    "\n",
    "# Create a dictionary to store tag counts\n",
    "tag_counts = {}\n",
    "\n",
    "# Process the scan result\n",
    "for key, data in scan_result:\n",
    "    tag = key.decode('utf-8')\n",
    "    count = int(data[b'data:count'].decode('utf-8'))\n",
    "    tag_counts[tag] = count\n",
    "\n",
    "# Close the HBase connection\n",
    "connection.close()\n",
    "\n",
    "# Sort the tags by count and get the top 3\n",
    "top_tags = sorted(tag_counts.items(), key=lambda item: item[1], reverse=True)[:3]\n",
    "\n",
    "# Print the top 3 tags and their counts\n",
    "for tag, count in top_tags:\n",
    "    print(f\"Tag: {tag}, Count: {count}\")"
   ]
  }
 ],
 "metadata": {
  "kernelspec": {
   "display_name": "Python 3",
   "language": "python",
   "name": "python3"
  },
  "language_info": {
   "codemirror_mode": {
    "name": "ipython",
    "version": 3
   },
   "file_extension": ".py",
   "mimetype": "text/x-python",
   "name": "python",
   "nbconvert_exporter": "python",
   "pygments_lexer": "ipython3",
   "version": "3.10.12"
  }
 },
 "nbformat": 4,
 "nbformat_minor": 2
}
