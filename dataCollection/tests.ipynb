{
 "cells": [
  {
   "cell_type": "code",
   "execution_count": 1,
   "metadata": {},
   "outputs": [
    {
     "data": {
      "text/plain": [
       "False"
      ]
     },
     "execution_count": 1,
     "metadata": {},
     "output_type": "execute_result"
    }
   ],
   "source": [
    "from mastodon import Mastodon\n",
    "import time\n",
    "from dotenv import load_dotenv\n",
    "import os\n",
    "import random\n",
    "from hdfs import InsecureClient\n",
    "\n",
    "load_dotenv()"
   ]
  },
  {
   "cell_type": "code",
   "execution_count": 2,
   "metadata": {},
   "outputs": [],
   "source": [
    "# Connect to the mastodon API\n",
    "mastodon = Mastodon(\n",
    "    client_id=os.getenv('Client_key'),\n",
    "    client_secret=os.getenv('Client_secret'),\n",
    "    access_token=os.getenv('Access_token'),\n",
    "    api_base_url=\"https://mastodon.social\"\n",
    ")"
   ]
  },
  {
   "cell_type": "code",
   "execution_count": 5,
   "metadata": {},
   "outputs": [
    {
     "name": "stdout",
     "output_type": "stream",
     "text": [
      "/test/ exists in HDFS\n"
     ]
    }
   ],
   "source": [
    "# Initialize an HDFS client\n",
    "hdfs_client = InsecureClient('http://localhost:9870')\n",
    "\n",
    "# Define the HDFS path where you want to save the data\n",
    "hdfs_path = '/test/'\n",
    "\n",
    "\n",
    "# Check if the file or directory exists\n",
    "if hdfs_client.status(hdfs_path, strict=False):\n",
    "    print(f'{hdfs_path} exists in HDFS')\n",
    "else:\n",
    "    print(f'{hdfs_path} does not exist in HDFS')\n"
   ]
  },
  {
   "cell_type": "code",
   "execution_count": 5,
   "metadata": {},
   "outputs": [
    {
     "data": {
      "text/plain": [
       "{'id': 111255160998259699,\n",
       " 'created_at': datetime.datetime(2023, 10, 18, 8, 50, 33, tzinfo=tzutc()),\n",
       " 'in_reply_to_id': None,\n",
       " 'in_reply_to_account_id': None,\n",
       " 'sensitive': False,\n",
       " 'spoiler_text': '',\n",
       " 'visibility': 'public',\n",
       " 'language': 'de',\n",
       " 'uri': 'https://muenchen.social/users/karin_wunsam/statuses/111255160977971799',\n",
       " 'url': 'https://muenchen.social/@karin_wunsam/111255160977971799',\n",
       " 'replies_count': 0,\n",
       " 'reblogs_count': 0,\n",
       " 'favourites_count': 0,\n",
       " 'edited_at': None,\n",
       " 'content': '<p>Freude und Stolz ist das Resultat bei den Aktiven der Freiwilligen Feuerwehr Haslach nachdem zwei Gruppen die anspruchsvolle Prüfung „Die Gruppe im Löscheinsatz“ mit Bravour bestanden haben:<br><a href=\"https://innpuls.me/leistungsabzeichen-wasser-von-feuerwehr-abgelegt/\" rel=\"nofollow noopener noreferrer\" target=\"_blank\"><span class=\"invisible\">https://</span><span class=\"ellipsis\">innpuls.me/leistungsabzeichen-</span><span class=\"invisible\">wasser-von-feuerwehr-abgelegt/</span></a></p>',\n",
       " 'reblog': None,\n",
       " 'account': {'id': 108261378166200620,\n",
       "  'username': 'karin_wunsam',\n",
       "  'acct': 'karin_wunsam@muenchen.social',\n",
       "  'display_name': 'Innpuls.me',\n",
       "  'locked': False,\n",
       "  'bot': False,\n",
       "  'discoverable': False,\n",
       "  'group': False,\n",
       "  'created_at': datetime.datetime(2022, 5, 7, 0, 0, tzinfo=tzutc()),\n",
       "  'note': '<p>Rosenheimer Journalistin mit Nachrichten-Online-Plattform Innpuls.me. Darauf zu finden Artikel, Fotos, Videos, Podcasts mit Schwerpunkt Rosenheim - aber auch gerne mal darüber hinaus. Tiere haben auf Innpuls.me sogar ihre eigene Rubrik. Ebenso lieben wir  von Innpuls.me bayerische Tradition und alte Fotos. Und Unterhaltung kommt bei uns auch nicht zu kurz.</p>',\n",
       "  'url': 'https://muenchen.social/@karin_wunsam',\n",
       "  'uri': 'https://muenchen.social/users/karin_wunsam',\n",
       "  'avatar': 'https://files.mastodon.social/cache/accounts/avatars/108/261/378/166/200/620/original/3e13a678558beae3.jpg',\n",
       "  'avatar_static': 'https://files.mastodon.social/cache/accounts/avatars/108/261/378/166/200/620/original/3e13a678558beae3.jpg',\n",
       "  'header': 'https://files.mastodon.social/cache/accounts/headers/108/261/378/166/200/620/original/8c22fd61202dd831.jpg',\n",
       "  'header_static': 'https://files.mastodon.social/cache/accounts/headers/108/261/378/166/200/620/original/8c22fd61202dd831.jpg',\n",
       "  'followers_count': 113,\n",
       "  'following_count': 87,\n",
       "  'statuses_count': 4142,\n",
       "  'last_status_at': datetime.datetime(2023, 10, 18, 0, 0),\n",
       "  'emojis': [],\n",
       "  'fields': []},\n",
       " 'media_attachments': [],\n",
       " 'mentions': [],\n",
       " 'tags': [],\n",
       " 'emojis': [],\n",
       " 'card': None,\n",
       " 'poll': None}"
      ]
     },
     "execution_count": 5,
     "metadata": {},
     "output_type": "execute_result"
    }
   ],
   "source": [
    "public_posts = mastodon.timeline_public(limit=10)"
   ]
  },
  {
   "cell_type": "code",
   "execution_count": null,
   "metadata": {},
   "outputs": [],
   "source": [
    "# Retrieve public timeline posts\n",
    "try:\n",
    "    with open('last_toot_id.txt', 'r') as f:\n",
    "        last_toot_id = f.read().strip()\n",
    "except FileNotFoundError:\n",
    "    last_toot_id = None"
   ]
  },
  {
   "cell_type": "code",
   "execution_count": 10,
   "metadata": {},
   "outputs": [
    {
     "name": "stdout",
     "output_type": "stream",
     "text": [
      "12\n",
      "872\n",
      "5\n",
      "42\n",
      "47\n",
      "196\n",
      "97\n",
      "27\n",
      "964\n",
      "144\n"
     ]
    }
   ],
   "source": [
    "# Fetch public posts from the federated timeline\n",
    "public_posts = mastodon.timeline_public(limit=10)  # Adjust the limit as needed\n",
    "\n",
    "# Iterate through the public posts and print their content\n",
    "for post in public_posts:\n",
    "    #  print the acounts followers count\n",
    "    print(post['account']['followers_count'])"
   ]
  },
  {
   "cell_type": "code",
   "execution_count": 15,
   "metadata": {},
   "outputs": [
    {
     "ename": "TTransportException",
     "evalue": "TTransportException(type=4, message='TSocket read 0 bytes')",
     "output_type": "error",
     "traceback": [
      "\u001b[0;31m---------------------------------------------------------------------------\u001b[0m",
      "\u001b[0;31mTTransportException\u001b[0m                       Traceback (most recent call last)",
      "\u001b[1;32m/home/project/Mastadon_data_analysis_Airflow_Hadoop_Hbase/dataCollection/tests.ipynb Cell 7\u001b[0m line \u001b[0;36m1\n\u001b[1;32m     <a href='vscode-notebook-cell://wsl%2Bubuntu/home/project/Mastadon_data_analysis_Airflow_Hadoop_Hbase/dataCollection/tests.ipynb#W6sdnNjb2RlLXJlbW90ZQ%3D%3D?line=14'>15</a>\u001b[0m user_dict[\u001b[39m\"\u001b[39m\u001b[39mengagement_rate\u001b[39m\u001b[39m\"\u001b[39m] \u001b[39m=\u001b[39m \u001b[39m0.0\u001b[39m\n\u001b[1;32m     <a href='vscode-notebook-cell://wsl%2Bubuntu/home/project/Mastadon_data_analysis_Airflow_Hadoop_Hbase/dataCollection/tests.ipynb#W6sdnNjb2RlLXJlbW90ZQ%3D%3D?line=15'>16</a>\u001b[0m user_dict[\u001b[39m\"\u001b[39m\u001b[39mfollowers\u001b[39m\u001b[39m\"\u001b[39m] \u001b[39m=\u001b[39m \u001b[39m555\u001b[39m\n\u001b[0;32m---> <a href='vscode-notebook-cell://wsl%2Bubuntu/home/project/Mastadon_data_analysis_Airflow_Hadoop_Hbase/dataCollection/tests.ipynb#W6sdnNjb2RlLXJlbW90ZQ%3D%3D?line=17'>18</a>\u001b[0m user_table\u001b[39m.\u001b[39;49mput(current_user\u001b[39m.\u001b[39;49mencode(), {table_family\u001b[39m.\u001b[39;49mencode(): \u001b[39mstr\u001b[39;49m(user_dict)\u001b[39m.\u001b[39;49mencode()})\n",
      "File \u001b[0;32m~/.local/lib/python3.10/site-packages/happybase/table.py:463\u001b[0m, in \u001b[0;36mTable.put\u001b[0;34m(self, row, data, timestamp, wal)\u001b[0m\n\u001b[1;32m    443\u001b[0m \u001b[39mdef\u001b[39;00m \u001b[39mput\u001b[39m(\u001b[39mself\u001b[39m, row, data, timestamp\u001b[39m=\u001b[39m\u001b[39mNone\u001b[39;00m, wal\u001b[39m=\u001b[39m\u001b[39mTrue\u001b[39;00m):\n\u001b[1;32m    444\u001b[0m \u001b[39m    \u001b[39m\u001b[39m\"\"\"Store data in the table.\u001b[39;00m\n\u001b[1;32m    445\u001b[0m \n\u001b[1;32m    446\u001b[0m \u001b[39m    This method stores the data in the `data` argument for the row\u001b[39;00m\n\u001b[0;32m   (...)\u001b[0m\n\u001b[1;32m    461\u001b[0m \u001b[39m    :param wal bool: whether to write to the WAL (optional)\u001b[39;00m\n\u001b[1;32m    462\u001b[0m \u001b[39m    \"\"\"\u001b[39;00m\n\u001b[0;32m--> 463\u001b[0m     \u001b[39mwith\u001b[39;00m \u001b[39mself\u001b[39m\u001b[39m.\u001b[39mbatch(timestamp\u001b[39m=\u001b[39mtimestamp, wal\u001b[39m=\u001b[39mwal) \u001b[39mas\u001b[39;00m batch:\n\u001b[1;32m    464\u001b[0m         batch\u001b[39m.\u001b[39mput(row, data)\n",
      "File \u001b[0;32m~/.local/lib/python3.10/site-packages/happybase/batch.py:137\u001b[0m, in \u001b[0;36mBatch.__exit__\u001b[0;34m(self, exc_type, exc_value, traceback)\u001b[0m\n\u001b[1;32m    134\u001b[0m \u001b[39mif\u001b[39;00m \u001b[39mself\u001b[39m\u001b[39m.\u001b[39m_transaction \u001b[39mand\u001b[39;00m exc_type \u001b[39mis\u001b[39;00m \u001b[39mnot\u001b[39;00m \u001b[39mNone\u001b[39;00m:\n\u001b[1;32m    135\u001b[0m     \u001b[39mreturn\u001b[39;00m\n\u001b[0;32m--> 137\u001b[0m \u001b[39mself\u001b[39;49m\u001b[39m.\u001b[39;49msend()\n",
      "File \u001b[0;32m~/.local/lib/python3.10/site-packages/happybase/batch.py:60\u001b[0m, in \u001b[0;36mBatch.send\u001b[0;34m(self)\u001b[0m\n\u001b[1;32m     57\u001b[0m logger\u001b[39m.\u001b[39mdebug(\u001b[39m\"\u001b[39m\u001b[39mSending batch for \u001b[39m\u001b[39m'\u001b[39m\u001b[39m%s\u001b[39;00m\u001b[39m'\u001b[39m\u001b[39m (\u001b[39m\u001b[39m%d\u001b[39;00m\u001b[39m mutations on \u001b[39m\u001b[39m%d\u001b[39;00m\u001b[39m rows)\u001b[39m\u001b[39m\"\u001b[39m,\n\u001b[1;32m     58\u001b[0m              \u001b[39mself\u001b[39m\u001b[39m.\u001b[39m_table\u001b[39m.\u001b[39mname, \u001b[39mself\u001b[39m\u001b[39m.\u001b[39m_mutation_count, \u001b[39mlen\u001b[39m(bms))\n\u001b[1;32m     59\u001b[0m \u001b[39mif\u001b[39;00m \u001b[39mself\u001b[39m\u001b[39m.\u001b[39m_timestamp \u001b[39mis\u001b[39;00m \u001b[39mNone\u001b[39;00m:\n\u001b[0;32m---> 60\u001b[0m     \u001b[39mself\u001b[39;49m\u001b[39m.\u001b[39;49m_table\u001b[39m.\u001b[39;49mconnection\u001b[39m.\u001b[39;49mclient\u001b[39m.\u001b[39;49mmutateRows(\u001b[39mself\u001b[39;49m\u001b[39m.\u001b[39;49m_table\u001b[39m.\u001b[39;49mname, bms, {})\n\u001b[1;32m     61\u001b[0m \u001b[39melse\u001b[39;00m:\n\u001b[1;32m     62\u001b[0m     \u001b[39mself\u001b[39m\u001b[39m.\u001b[39m_table\u001b[39m.\u001b[39mconnection\u001b[39m.\u001b[39mclient\u001b[39m.\u001b[39mmutateRowsTs(\n\u001b[1;32m     63\u001b[0m         \u001b[39mself\u001b[39m\u001b[39m.\u001b[39m_table\u001b[39m.\u001b[39mname, bms, \u001b[39mself\u001b[39m\u001b[39m.\u001b[39m_timestamp, {})\n",
      "File \u001b[0;32m~/.local/lib/python3.10/site-packages/thriftpy2/thrift.py:219\u001b[0m, in \u001b[0;36mTClient._req\u001b[0;34m(self, _api, *args, **kwargs)\u001b[0m\n\u001b[1;32m    217\u001b[0m \u001b[39m# wait result only if non-oneway\u001b[39;00m\n\u001b[1;32m    218\u001b[0m \u001b[39mif\u001b[39;00m \u001b[39mnot\u001b[39;00m \u001b[39mgetattr\u001b[39m(result_cls, \u001b[39m\"\u001b[39m\u001b[39moneway\u001b[39m\u001b[39m\"\u001b[39m):\n\u001b[0;32m--> 219\u001b[0m     \u001b[39mreturn\u001b[39;00m \u001b[39mself\u001b[39;49m\u001b[39m.\u001b[39;49m_recv(_api)\n",
      "File \u001b[0;32m~/.local/lib/python3.10/site-packages/thriftpy2/thrift.py:231\u001b[0m, in \u001b[0;36mTClient._recv\u001b[0;34m(self, _api)\u001b[0m\n\u001b[1;32m    230\u001b[0m \u001b[39mdef\u001b[39;00m \u001b[39m_recv\u001b[39m(\u001b[39mself\u001b[39m, _api):\n\u001b[0;32m--> 231\u001b[0m     fname, mtype, rseqid \u001b[39m=\u001b[39m \u001b[39mself\u001b[39;49m\u001b[39m.\u001b[39;49m_iprot\u001b[39m.\u001b[39;49mread_message_begin()\n\u001b[1;32m    232\u001b[0m     \u001b[39mif\u001b[39;00m mtype \u001b[39m==\u001b[39m TMessageType\u001b[39m.\u001b[39mEXCEPTION:\n\u001b[1;32m    233\u001b[0m         x \u001b[39m=\u001b[39m TApplicationException()\n",
      "File \u001b[0;32m~/.local/lib/python3.10/site-packages/thriftpy2/protocol/cybin/cybin.pyx:463\u001b[0m, in \u001b[0;36mcybin.TCyBinaryProtocol.read_message_begin\u001b[0;34m()\u001b[0m\n",
      "File \u001b[0;32m~/.local/lib/python3.10/site-packages/thriftpy2/protocol/cybin/cybin.pyx:68\u001b[0m, in \u001b[0;36mcybin.read_i32\u001b[0;34m()\u001b[0m\n",
      "File \u001b[0;32m~/.local/lib/python3.10/site-packages/thriftpy2/transport/buffered/cybuffered.pyx:65\u001b[0m, in \u001b[0;36mthriftpy2.transport.buffered.cybuffered.TCyBufferedTransport.c_read\u001b[0;34m()\u001b[0m\n",
      "File \u001b[0;32m~/.local/lib/python3.10/site-packages/thriftpy2/transport/buffered/cybuffered.pyx:69\u001b[0m, in \u001b[0;36mthriftpy2.transport.buffered.cybuffered.TCyBufferedTransport.read_trans\u001b[0;34m()\u001b[0m\n",
      "File \u001b[0;32m~/.local/lib/python3.10/site-packages/thriftpy2/transport/cybase.pyx:61\u001b[0m, in \u001b[0;36mthriftpy2.transport.cybase.TCyBuffer.read_trans\u001b[0;34m()\u001b[0m\n",
      "File \u001b[0;32m~/.local/lib/python3.10/site-packages/thriftpy2/transport/socket.py:131\u001b[0m, in \u001b[0;36mTSocket.read\u001b[0;34m(self, sz)\u001b[0m\n\u001b[1;32m    128\u001b[0m         \u001b[39mbreak\u001b[39;00m\n\u001b[1;32m    130\u001b[0m \u001b[39mif\u001b[39;00m \u001b[39mlen\u001b[39m(buff) \u001b[39m==\u001b[39m \u001b[39m0\u001b[39m:\n\u001b[0;32m--> 131\u001b[0m     \u001b[39mraise\u001b[39;00m TTransportException(\u001b[39mtype\u001b[39m\u001b[39m=\u001b[39mTTransportException\u001b[39m.\u001b[39mEND_OF_FILE,\n\u001b[1;32m    132\u001b[0m                               message\u001b[39m=\u001b[39m\u001b[39m'\u001b[39m\u001b[39mTSocket read 0 bytes\u001b[39m\u001b[39m'\u001b[39m)\n\u001b[1;32m    133\u001b[0m \u001b[39mreturn\u001b[39;00m buff\n",
      "\u001b[0;31mTTransportException\u001b[0m: TTransportException(type=4, message='TSocket read 0 bytes')"
     ]
    }
   ],
   "source": [
    "import happybase\n",
    "\n",
    "# Initialize a connection to HBase\n",
    "connection = happybase.Connection('localhost', 9000)\n",
    "\n",
    "# Select a table family name\n",
    "table_family = 'data'\n",
    "\n",
    "# Define the HBase tables\n",
    "user_table = connection.table('user_data')\n",
    "\n",
    "user_dict = {}\n",
    "current_user = \"user:230844852197518878\"\n",
    "\n",
    "user_dict[\"engagement_rate\"] = 0.0\n",
    "user_dict[\"followers\"] = 555\n",
    "\n",
    "user_table.put(current_user.encode(), {table_family.encode(): str(user_dict).encode()})"
   ]
  },
  {
   "cell_type": "code",
   "execution_count": 17,
   "metadata": {},
   "outputs": [
    {
     "ename": "AttributeError",
     "evalue": "module 'happybase' has no attribute 'ConnectionError'",
     "output_type": "error",
     "traceback": [
      "\u001b[0;31m---------------------------------------------------------------------------\u001b[0m",
      "\u001b[0;31mTTransportException\u001b[0m                       Traceback (most recent call last)",
      "\u001b[1;32m/home/project/Mastadon_data_analysis_Airflow_Hadoop_Hbase/dataCollection/tests.ipynb Cell 8\u001b[0m line \u001b[0;36m1\n\u001b[1;32m     <a href='vscode-notebook-cell://wsl%2Bubuntu/home/project/Mastadon_data_analysis_Airflow_Hadoop_Hbase/dataCollection/tests.ipynb#X10sdnNjb2RlLXJlbW90ZQ%3D%3D?line=13'>14</a>\u001b[0m \u001b[39m# Create a test table if it doesn't exist\u001b[39;00m\n\u001b[0;32m---> <a href='vscode-notebook-cell://wsl%2Bubuntu/home/project/Mastadon_data_analysis_Airflow_Hadoop_Hbase/dataCollection/tests.ipynb#X10sdnNjb2RlLXJlbW90ZQ%3D%3D?line=14'>15</a>\u001b[0m \u001b[39mif\u001b[39;00m table_name\u001b[39m.\u001b[39mencode() \u001b[39mnot\u001b[39;00m \u001b[39min\u001b[39;00m connection\u001b[39m.\u001b[39;49mtables():\n\u001b[1;32m     <a href='vscode-notebook-cell://wsl%2Bubuntu/home/project/Mastadon_data_analysis_Airflow_Hadoop_Hbase/dataCollection/tests.ipynb#X10sdnNjb2RlLXJlbW90ZQ%3D%3D?line=15'>16</a>\u001b[0m     connection\u001b[39m.\u001b[39mcreate_table(\n\u001b[1;32m     <a href='vscode-notebook-cell://wsl%2Bubuntu/home/project/Mastadon_data_analysis_Airflow_Hadoop_Hbase/dataCollection/tests.ipynb#X10sdnNjb2RlLXJlbW90ZQ%3D%3D?line=16'>17</a>\u001b[0m         table_name,\n\u001b[1;32m     <a href='vscode-notebook-cell://wsl%2Bubuntu/home/project/Mastadon_data_analysis_Airflow_Hadoop_Hbase/dataCollection/tests.ipynb#X10sdnNjb2RlLXJlbW90ZQ%3D%3D?line=17'>18</a>\u001b[0m         {\n\u001b[1;32m     <a href='vscode-notebook-cell://wsl%2Bubuntu/home/project/Mastadon_data_analysis_Airflow_Hadoop_Hbase/dataCollection/tests.ipynb#X10sdnNjb2RlLXJlbW90ZQ%3D%3D?line=18'>19</a>\u001b[0m             column_family: \u001b[39mdict\u001b[39m(),\n\u001b[1;32m     <a href='vscode-notebook-cell://wsl%2Bubuntu/home/project/Mastadon_data_analysis_Airflow_Hadoop_Hbase/dataCollection/tests.ipynb#X10sdnNjb2RlLXJlbW90ZQ%3D%3D?line=19'>20</a>\u001b[0m         }\n\u001b[1;32m     <a href='vscode-notebook-cell://wsl%2Bubuntu/home/project/Mastadon_data_analysis_Airflow_Hadoop_Hbase/dataCollection/tests.ipynb#X10sdnNjb2RlLXJlbW90ZQ%3D%3D?line=20'>21</a>\u001b[0m     )\n",
      "File \u001b[0;32m~/.local/lib/python3.10/site-packages/happybase/connection.py:242\u001b[0m, in \u001b[0;36mConnection.tables\u001b[0;34m(self)\u001b[0m\n\u001b[1;32m    234\u001b[0m \u001b[39m\u001b[39m\u001b[39m\"\"\"Return a list of table names available in this HBase instance.\u001b[39;00m\n\u001b[1;32m    235\u001b[0m \n\u001b[1;32m    236\u001b[0m \u001b[39mIf a `table_prefix` was set for this :py:class:`Connection`, only\u001b[39;00m\n\u001b[0;32m   (...)\u001b[0m\n\u001b[1;32m    240\u001b[0m \u001b[39m:rtype: List of strings\u001b[39;00m\n\u001b[1;32m    241\u001b[0m \u001b[39m\"\"\"\u001b[39;00m\n\u001b[0;32m--> 242\u001b[0m names \u001b[39m=\u001b[39m \u001b[39mself\u001b[39;49m\u001b[39m.\u001b[39;49mclient\u001b[39m.\u001b[39;49mgetTableNames()\n\u001b[1;32m    244\u001b[0m \u001b[39m# Filter using prefix, and strip prefix from names\u001b[39;00m\n",
      "File \u001b[0;32m~/.local/lib/python3.10/site-packages/thriftpy2/thrift.py:219\u001b[0m, in \u001b[0;36mTClient._req\u001b[0;34m(self, _api, *args, **kwargs)\u001b[0m\n\u001b[1;32m    218\u001b[0m \u001b[39mif\u001b[39;00m \u001b[39mnot\u001b[39;00m \u001b[39mgetattr\u001b[39m(result_cls, \u001b[39m\"\u001b[39m\u001b[39moneway\u001b[39m\u001b[39m\"\u001b[39m):\n\u001b[0;32m--> 219\u001b[0m     \u001b[39mreturn\u001b[39;00m \u001b[39mself\u001b[39;49m\u001b[39m.\u001b[39;49m_recv(_api)\n",
      "File \u001b[0;32m~/.local/lib/python3.10/site-packages/thriftpy2/thrift.py:231\u001b[0m, in \u001b[0;36mTClient._recv\u001b[0;34m(self, _api)\u001b[0m\n\u001b[1;32m    230\u001b[0m \u001b[39mdef\u001b[39;00m \u001b[39m_recv\u001b[39m(\u001b[39mself\u001b[39m, _api):\n\u001b[0;32m--> 231\u001b[0m     fname, mtype, rseqid \u001b[39m=\u001b[39m \u001b[39mself\u001b[39;49m\u001b[39m.\u001b[39;49m_iprot\u001b[39m.\u001b[39;49mread_message_begin()\n\u001b[1;32m    232\u001b[0m     \u001b[39mif\u001b[39;00m mtype \u001b[39m==\u001b[39m TMessageType\u001b[39m.\u001b[39mEXCEPTION:\n",
      "File \u001b[0;32m~/.local/lib/python3.10/site-packages/thriftpy2/protocol/cybin/cybin.pyx:463\u001b[0m, in \u001b[0;36mcybin.TCyBinaryProtocol.read_message_begin\u001b[0;34m()\u001b[0m\n",
      "File \u001b[0;32m~/.local/lib/python3.10/site-packages/thriftpy2/protocol/cybin/cybin.pyx:68\u001b[0m, in \u001b[0;36mcybin.read_i32\u001b[0;34m()\u001b[0m\n",
      "File \u001b[0;32m~/.local/lib/python3.10/site-packages/thriftpy2/transport/buffered/cybuffered.pyx:65\u001b[0m, in \u001b[0;36mthriftpy2.transport.buffered.cybuffered.TCyBufferedTransport.c_read\u001b[0;34m()\u001b[0m\n",
      "File \u001b[0;32m~/.local/lib/python3.10/site-packages/thriftpy2/transport/buffered/cybuffered.pyx:69\u001b[0m, in \u001b[0;36mthriftpy2.transport.buffered.cybuffered.TCyBufferedTransport.read_trans\u001b[0;34m()\u001b[0m\n",
      "File \u001b[0;32m~/.local/lib/python3.10/site-packages/thriftpy2/transport/cybase.pyx:61\u001b[0m, in \u001b[0;36mthriftpy2.transport.cybase.TCyBuffer.read_trans\u001b[0;34m()\u001b[0m\n",
      "File \u001b[0;32m~/.local/lib/python3.10/site-packages/thriftpy2/transport/socket.py:131\u001b[0m, in \u001b[0;36mTSocket.read\u001b[0;34m(self, sz)\u001b[0m\n\u001b[1;32m    130\u001b[0m \u001b[39mif\u001b[39;00m \u001b[39mlen\u001b[39m(buff) \u001b[39m==\u001b[39m \u001b[39m0\u001b[39m:\n\u001b[0;32m--> 131\u001b[0m     \u001b[39mraise\u001b[39;00m TTransportException(\u001b[39mtype\u001b[39m\u001b[39m=\u001b[39mTTransportException\u001b[39m.\u001b[39mEND_OF_FILE,\n\u001b[1;32m    132\u001b[0m                               message\u001b[39m=\u001b[39m\u001b[39m'\u001b[39m\u001b[39mTSocket read 0 bytes\u001b[39m\u001b[39m'\u001b[39m)\n\u001b[1;32m    133\u001b[0m \u001b[39mreturn\u001b[39;00m buff\n",
      "\u001b[0;31mTTransportException\u001b[0m: TTransportException(type=4, message='TSocket read 0 bytes')",
      "\nDuring handling of the above exception, another exception occurred:\n",
      "\u001b[0;31mAttributeError\u001b[0m                            Traceback (most recent call last)",
      "\u001b[1;32m/home/project/Mastadon_data_analysis_Airflow_Hadoop_Hbase/dataCollection/tests.ipynb Cell 8\u001b[0m line \u001b[0;36m3\n\u001b[1;32m     <a href='vscode-notebook-cell://wsl%2Bubuntu/home/project/Mastadon_data_analysis_Airflow_Hadoop_Hbase/dataCollection/tests.ipynb#X10sdnNjb2RlLXJlbW90ZQ%3D%3D?line=32'>33</a>\u001b[0m     table\u001b[39m.\u001b[39mput(row_key, data)\n\u001b[1;32m     <a href='vscode-notebook-cell://wsl%2Bubuntu/home/project/Mastadon_data_analysis_Airflow_Hadoop_Hbase/dataCollection/tests.ipynb#X10sdnNjb2RlLXJlbW90ZQ%3D%3D?line=33'>34</a>\u001b[0m     \u001b[39mprint\u001b[39m(\u001b[39mf\u001b[39m\u001b[39m\"\u001b[39m\u001b[39mInserted row with key \u001b[39m\u001b[39m'\u001b[39m\u001b[39m{\u001b[39;00mrow_key\u001b[39m}\u001b[39;00m\u001b[39m'\u001b[39m\u001b[39m and columns \u001b[39m\u001b[39m'\u001b[39m\u001b[39mcolumn1\u001b[39m\u001b[39m'\u001b[39m\u001b[39m and \u001b[39m\u001b[39m'\u001b[39m\u001b[39mcolumn2\u001b[39m\u001b[39m'\u001b[39m\u001b[39m.\u001b[39m\u001b[39m\"\u001b[39m)\n\u001b[0;32m---> <a href='vscode-notebook-cell://wsl%2Bubuntu/home/project/Mastadon_data_analysis_Airflow_Hadoop_Hbase/dataCollection/tests.ipynb#X10sdnNjb2RlLXJlbW90ZQ%3D%3D?line=35'>36</a>\u001b[0m \u001b[39mexcept\u001b[39;00m happybase\u001b[39m.\u001b[39;49mConnectionError \u001b[39mas\u001b[39;00m e:\n\u001b[1;32m     <a href='vscode-notebook-cell://wsl%2Bubuntu/home/project/Mastadon_data_analysis_Airflow_Hadoop_Hbase/dataCollection/tests.ipynb#X10sdnNjb2RlLXJlbW90ZQ%3D%3D?line=36'>37</a>\u001b[0m     \u001b[39mprint\u001b[39m(\u001b[39mf\u001b[39m\u001b[39m\"\u001b[39m\u001b[39mConnection Error: \u001b[39m\u001b[39m{\u001b[39;00m\u001b[39mstr\u001b[39m(e)\u001b[39m}\u001b[39;00m\u001b[39m\"\u001b[39m)\n\u001b[1;32m     <a href='vscode-notebook-cell://wsl%2Bubuntu/home/project/Mastadon_data_analysis_Airflow_Hadoop_Hbase/dataCollection/tests.ipynb#X10sdnNjb2RlLXJlbW90ZQ%3D%3D?line=37'>38</a>\u001b[0m \u001b[39mexcept\u001b[39;00m \u001b[39mException\u001b[39;00m \u001b[39mas\u001b[39;00m e:\n",
      "\u001b[0;31mAttributeError\u001b[0m: module 'happybase' has no attribute 'ConnectionError'"
     ]
    }
   ],
   "source": [
    "import happybase\n",
    "\n",
    "# Initialize a connection to HBase\n",
    "connection = happybase.Connection('localhost', 9000, autoconnect=False)\n",
    "\n",
    "try:\n",
    "    # Enable the connection\n",
    "    connection.open()\n",
    "    \n",
    "    # Define the table name and column family\n",
    "    table_name = 'test_table'\n",
    "    column_family = 'cf'  # You can change this to your desired column family name\n",
    "    \n",
    "    # Create a test table if it doesn't exist\n",
    "    if table_name.encode() not in connection.tables():\n",
    "        connection.create_table(\n",
    "            table_name,\n",
    "            {\n",
    "                column_family: dict(),\n",
    "            }\n",
    "        )\n",
    "        print(f\"Table '{table_name}' created.\")\n",
    "    \n",
    "    # Get a reference to the table\n",
    "    table = connection.table(table_name)\n",
    "\n",
    "    # Insert a row with two columns\n",
    "    row_key = 'row1'\n",
    "    data = {\n",
    "        f\"{column_family}:column1\": b'Value1',\n",
    "        f\"{column_family}:column2\": b'Value2',\n",
    "    }\n",
    "    table.put(row_key, data)\n",
    "    print(f\"Inserted row with key '{row_key}' and columns 'column1' and 'column2'.\")\n",
    "\n",
    "except happybase.ConnectionError as e:\n",
    "    print(f\"Connection Error: {str(e)}\")\n",
    "except Exception as e:\n",
    "    print(f\"An error occurred: {str(e)}\")\n",
    "finally:\n",
    "    # Close the connection\n",
    "    connection.close()\n"
   ]
  }
 ],
 "metadata": {
  "kernelspec": {
   "display_name": "Python 3",
   "language": "python",
   "name": "python3"
  },
  "language_info": {
   "codemirror_mode": {
    "name": "ipython",
    "version": 3
   },
   "file_extension": ".py",
   "mimetype": "text/x-python",
   "name": "python",
   "nbconvert_exporter": "python",
   "pygments_lexer": "ipython3",
   "version": "3.10.12"
  }
 },
 "nbformat": 4,
 "nbformat_minor": 2
}
