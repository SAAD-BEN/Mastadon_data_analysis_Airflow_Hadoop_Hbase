{
 "cells": [
  {
   "cell_type": "code",
   "execution_count": 1,
   "metadata": {},
   "outputs": [
    {
     "data": {
      "text/plain": [
       "False"
      ]
     },
     "execution_count": 1,
     "metadata": {},
     "output_type": "execute_result"
    }
   ],
   "source": [
    "from mastodon import Mastodon\n",
    "import time\n",
    "from dotenv import load_dotenv\n",
    "import os\n",
    "import random\n",
    "from hdfs import InsecureClient\n",
    "\n",
    "load_dotenv()"
   ]
  },
  {
   "cell_type": "code",
   "execution_count": 2,
   "metadata": {},
   "outputs": [],
   "source": [
    "# Connect to the mastodon API\n",
    "mastodon = Mastodon(\n",
    "    client_id=os.getenv('Client_key'),\n",
    "    client_secret=os.getenv('Client_secret'),\n",
    "    access_token=os.getenv('Access_token'),\n",
    "    api_base_url=\"https://mastodon.social\"\n",
    ")"
   ]
  },
  {
   "cell_type": "code",
   "execution_count": 5,
   "metadata": {},
   "outputs": [
    {
     "name": "stdout",
     "output_type": "stream",
     "text": [
      "/test/ exists in HDFS\n"
     ]
    }
   ],
   "source": [
    "# Initialize an HDFS client\n",
    "hdfs_client = InsecureClient('http://localhost:9870')\n",
    "\n",
    "# Define the HDFS path where you want to save the data\n",
    "hdfs_path = '/test/'\n",
    "\n",
    "\n",
    "# Check if the file or directory exists\n",
    "if hdfs_client.status(hdfs_path, strict=False):\n",
    "    print(f'{hdfs_path} exists in HDFS')\n",
    "else:\n",
    "    print(f'{hdfs_path} does not exist in HDFS')\n"
   ]
  },
  {
   "cell_type": "code",
   "execution_count": 5,
   "metadata": {},
   "outputs": [
    {
     "data": {
      "text/plain": [
       "{'id': 111255160998259699,\n",
       " 'created_at': datetime.datetime(2023, 10, 18, 8, 50, 33, tzinfo=tzutc()),\n",
       " 'in_reply_to_id': None,\n",
       " 'in_reply_to_account_id': None,\n",
       " 'sensitive': False,\n",
       " 'spoiler_text': '',\n",
       " 'visibility': 'public',\n",
       " 'language': 'de',\n",
       " 'uri': 'https://muenchen.social/users/karin_wunsam/statuses/111255160977971799',\n",
       " 'url': 'https://muenchen.social/@karin_wunsam/111255160977971799',\n",
       " 'replies_count': 0,\n",
       " 'reblogs_count': 0,\n",
       " 'favourites_count': 0,\n",
       " 'edited_at': None,\n",
       " 'content': '<p>Freude und Stolz ist das Resultat bei den Aktiven der Freiwilligen Feuerwehr Haslach nachdem zwei Gruppen die anspruchsvolle Prüfung „Die Gruppe im Löscheinsatz“ mit Bravour bestanden haben:<br><a href=\"https://innpuls.me/leistungsabzeichen-wasser-von-feuerwehr-abgelegt/\" rel=\"nofollow noopener noreferrer\" target=\"_blank\"><span class=\"invisible\">https://</span><span class=\"ellipsis\">innpuls.me/leistungsabzeichen-</span><span class=\"invisible\">wasser-von-feuerwehr-abgelegt/</span></a></p>',\n",
       " 'reblog': None,\n",
       " 'account': {'id': 108261378166200620,\n",
       "  'username': 'karin_wunsam',\n",
       "  'acct': 'karin_wunsam@muenchen.social',\n",
       "  'display_name': 'Innpuls.me',\n",
       "  'locked': False,\n",
       "  'bot': False,\n",
       "  'discoverable': False,\n",
       "  'group': False,\n",
       "  'created_at': datetime.datetime(2022, 5, 7, 0, 0, tzinfo=tzutc()),\n",
       "  'note': '<p>Rosenheimer Journalistin mit Nachrichten-Online-Plattform Innpuls.me. Darauf zu finden Artikel, Fotos, Videos, Podcasts mit Schwerpunkt Rosenheim - aber auch gerne mal darüber hinaus. Tiere haben auf Innpuls.me sogar ihre eigene Rubrik. Ebenso lieben wir  von Innpuls.me bayerische Tradition und alte Fotos. Und Unterhaltung kommt bei uns auch nicht zu kurz.</p>',\n",
       "  'url': 'https://muenchen.social/@karin_wunsam',\n",
       "  'uri': 'https://muenchen.social/users/karin_wunsam',\n",
       "  'avatar': 'https://files.mastodon.social/cache/accounts/avatars/108/261/378/166/200/620/original/3e13a678558beae3.jpg',\n",
       "  'avatar_static': 'https://files.mastodon.social/cache/accounts/avatars/108/261/378/166/200/620/original/3e13a678558beae3.jpg',\n",
       "  'header': 'https://files.mastodon.social/cache/accounts/headers/108/261/378/166/200/620/original/8c22fd61202dd831.jpg',\n",
       "  'header_static': 'https://files.mastodon.social/cache/accounts/headers/108/261/378/166/200/620/original/8c22fd61202dd831.jpg',\n",
       "  'followers_count': 113,\n",
       "  'following_count': 87,\n",
       "  'statuses_count': 4142,\n",
       "  'last_status_at': datetime.datetime(2023, 10, 18, 0, 0),\n",
       "  'emojis': [],\n",
       "  'fields': []},\n",
       " 'media_attachments': [],\n",
       " 'mentions': [],\n",
       " 'tags': [],\n",
       " 'emojis': [],\n",
       " 'card': None,\n",
       " 'poll': None}"
      ]
     },
     "execution_count": 5,
     "metadata": {},
     "output_type": "execute_result"
    }
   ],
   "source": [
    "public_posts = mastodon.timeline_public(limit=10)"
   ]
  },
  {
   "cell_type": "code",
   "execution_count": null,
   "metadata": {},
   "outputs": [],
   "source": [
    "# Retrieve public timeline posts\n",
    "try:\n",
    "    with open('last_toot_id.txt', 'r') as f:\n",
    "        last_toot_id = f.read().strip()\n",
    "except FileNotFoundError:\n",
    "    last_toot_id = None"
   ]
  },
  {
   "cell_type": "code",
   "execution_count": 10,
   "metadata": {},
   "outputs": [
    {
     "name": "stdout",
     "output_type": "stream",
     "text": [
      "12\n",
      "872\n",
      "5\n",
      "42\n",
      "47\n",
      "196\n",
      "97\n",
      "27\n",
      "964\n",
      "144\n"
     ]
    }
   ],
   "source": [
    "# Fetch public posts from the federated timeline\n",
    "public_posts = mastodon.timeline_public(limit=10)  # Adjust the limit as needed\n",
    "\n",
    "# Iterate through the public posts and print their content\n",
    "for post in public_posts:\n",
    "    #  print the acounts followers count\n",
    "    print(post['account']['followers_count'])"
   ]
  }
 ],
 "metadata": {
  "kernelspec": {
   "display_name": "Python 3",
   "language": "python",
   "name": "python3"
  },
  "language_info": {
   "codemirror_mode": {
    "name": "ipython",
    "version": 3
   },
   "file_extension": ".py",
   "mimetype": "text/x-python",
   "name": "python",
   "nbconvert_exporter": "python",
   "pygments_lexer": "ipython3",
   "version": "3.10.6"
  }
 },
 "nbformat": 4,
 "nbformat_minor": 2
}
